{
 "cells": [
  {
   "cell_type": "code",
   "execution_count": 50,
   "metadata": {
    "collapsed": false
   },
   "outputs": [
    {
     "data": {
      "text/plain": [
       "<wordcloud.wordcloud.WordCloud at 0x1261285f8>"
      ]
     },
     "execution_count": 50,
     "metadata": {},
     "output_type": "execute_result"
    }
   ],
   "source": [
    "from os import path\n",
    "import pandas as pd\n",
    "from PIL import Image\n",
    "from os import path\n",
    "import numpy as np\n",
    "import matplotlib.pyplot as plt\n",
    "from wordcloud import WordCloud, STOPWORDS\n",
    "\n",
    "# loading the file into a data frame\n",
    "df1 = pd.read_csv('_chat_hasans_2.txt', names=['time','message'])\n",
    "\n",
    "#further splitting message and clean-up\n",
    "df2 = df1['message'].str.split(\":\", expand=True,n=1)\n",
    "df_all = pd.concat([df1, df2], axis=1)\n",
    "df_all = df_all.rename(columns={'message': 'total', 0:'name', 1:'message'})\n",
    "df_all.drop('total', axis=1, inplace=True)\n",
    "df_all.loc[df_all.time.str.contains(r'[a-zA-Z]')==True, 'message'] = df_all[df_all.time.str.contains(r'[a-zA-Z]')==True].time\n",
    "df_all.fillna(' ', inplace=True)\n",
    "\n",
    "## removing all the status messages \n",
    "df_all = df_all[df_all.message.str.contains(\"added|changed|created|left\")==False]\n",
    "text = ' '.join(df_all['message'])\n",
    "\n",
    "## excl. other words that are not messages\n",
    "STOPWORDS.update([\"media\", \"omitted\", \"image\",\"video\",\"PM\",\"fucked\",\"fuck\",\"lun\",\"bitch\"])\n",
    "image_mask = np.array(Image.open(\"mask-circle.png\"))\n",
    "\n",
    "#generating word cloud\n",
    "wc = WordCloud(background_color=\"white\",max_words=900,width=4000, height=2400,scale=10, mask=image_mask)\n",
    "wc.generate(text)\n",
    "plt.imshow(wc)\n",
    "wc.to_file(\"word_cloud_black_circle_hasans_1600.png\")\n"
   ]
  },
  {
   "cell_type": "code",
   "execution_count": null,
   "metadata": {
    "collapsed": true
   },
   "outputs": [],
   "source": []
  }
 ],
 "metadata": {
  "kernelspec": {
   "display_name": "Python 3",
   "language": "python",
   "name": "python3"
  },
  "language_info": {
   "codemirror_mode": {
    "name": "ipython",
    "version": 3
   },
   "file_extension": ".py",
   "mimetype": "text/x-python",
   "name": "python",
   "nbconvert_exporter": "python",
   "pygments_lexer": "ipython3",
   "version": "3.5.1"
  }
 },
 "nbformat": 4,
 "nbformat_minor": 0
}
